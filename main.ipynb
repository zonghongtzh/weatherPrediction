{
 "cells": [
  {
   "cell_type": "code",
   "execution_count": null,
   "id": "56dd8d26-f46d-4f2c-8b35-624e9ca8570a",
   "metadata": {},
   "outputs": [],
   "source": [
    "# retrospective euclidean distance\n",
    "\n",
    "from utils import * \n",
    "from RED import * \n",
    "\n",
    "df_path = os.path.join(utils.mypath, 'Storage', 'weatherHistory_cleaned.csv')\n",
    "df = pd.read_csv(df_path, index_col = [0])\n",
    "\n",
    "# testing last 100 datasets in 2 step-wise\n",
    "# data is from 2016-09-05 to 2016-09-09\n",
    "test_dataset = df.iloc[-100:]\n",
    "historical_df = df.copy(deep = True)\n",
    "n = 2\n",
    "\n",
    "result = {}\n",
    "for i in range(len(test_dataset) - n + 1):\n",
    "    predictor_df = test_dataset.iloc[i: i + n]\n",
    "    \n",
    "    RED_result = RED_calculation(predictor_df, historical_df)\n",
    "    top_10 = dict(sorted(RED_result.items(), key=lambda item: item[1])[:10])\n",
    "    \n",
    "    result[tuple(predictor_df.index)] = top_10\n",
    "    \n",
    "    if i%10 == 0:\n",
    "        print(i)"
   ]
  },
  {
   "cell_type": "code",
   "execution_count": null,
   "id": "4c593b67-ca22-46ea-85ad-d03fd6256c9d",
   "metadata": {},
   "outputs": [],
   "source": []
  }
 ],
 "metadata": {
  "kernelspec": {
   "display_name": "Python 3",
   "language": "python",
   "name": "python3"
  },
  "language_info": {
   "codemirror_mode": {
    "name": "ipython",
    "version": 3
   },
   "file_extension": ".py",
   "mimetype": "text/x-python",
   "name": "python",
   "nbconvert_exporter": "python",
   "pygments_lexer": "ipython3",
   "version": "3.8.8"
  }
 },
 "nbformat": 4,
 "nbformat_minor": 5
}
